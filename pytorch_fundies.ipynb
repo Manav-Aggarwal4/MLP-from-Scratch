{
  "nbformat": 4,
  "nbformat_minor": 0,
  "metadata": {
    "colab": {
      "provenance": [],
      "gpuType": "T4",
      "include_colab_link": true
    },
    "kernelspec": {
      "name": "python3",
      "display_name": "Python 3"
    },
    "accelerator": "GPU"
  },
  "cells": [
    {
      "cell_type": "markdown",
      "metadata": {
        "id": "view-in-github",
        "colab_type": "text"
      },
      "source": [
        "<a href=\"https://colab.research.google.com/github/Manav-Aggarwal4/MLP-from-Scratch/blob/main/pytorch_fundies.ipynb\" target=\"_parent\"><img src=\"https://colab.research.google.com/assets/colab-badge.svg\" alt=\"Open In Colab\"/></a>"
      ]
    },
    {
      "cell_type": "markdown",
      "metadata": {
        "id": "2bBRIsuIPGIo"
      },
      "source": [
        "Welcome to Colab! It's just like Jupyter, but you can use the power of GPUs.\n",
        "\n",
        "Make sure to go to Runtime > Change runtime types and choose GPU or TPU.\n",
        "\n",
        "Also, in Tools > Settings > Miscellaneous you can enable Corgi Mode."
      ]
    },
    {
      "cell_type": "code",
      "metadata": {
        "id": "D3mMSdyC2EVI"
      },
      "source": [
        "import torch\n",
        "import torchvision\n",
        "from torch import nn\n",
        "from torch.nn import functional as F\n",
        "from torch.utils import data\n",
        "\n",
        "import time\n",
        "import json\n",
        "\n",
        "import requests\n",
        "import tqdm\n",
        "import numpy as np\n",
        "\n",
        "DEVICE = 'cuda' if torch.cuda.is_available() else 'cpu'"
      ],
      "execution_count": 1,
      "outputs": []
    },
    {
      "cell_type": "markdown",
      "metadata": {
        "id": "e24myf6EH0Ij"
      },
      "source": [
        "# Exercise 1: Linear Models in Pytorch\n",
        "In this section we'll present some rather contrived examples to help you get acustomed to using pytorch."
      ]
    },
    {
      "cell_type": "markdown",
      "metadata": {
        "id": "--sOHVjCIFti"
      },
      "source": [
        "## Exercsise 1.1: Linear Regression Without NN\n",
        "Your first task is to use pytorch to run linear regression without using the neural network (or nn) package. You can construct variables that auto diff should capture by setting `tensor.requires_grad = True`. Below is some data that we'll try to fit.\n"
      ]
    },
    {
      "cell_type": "code",
      "metadata": {
        "id": "dmmbTLtvI55_",
        "colab": {
          "base_uri": "https://localhost:8080/",
          "height": 430
        },
        "outputId": "87a02338-59af-4e86-fe9c-e25e22f73b8a"
      },
      "source": [
        "from matplotlib import pyplot as plt\n",
        "num_data = 20\n",
        "\n",
        "def gen_data(n):\n",
        "    x = []\n",
        "    y = []\n",
        "    for i in range(n):\n",
        "        rand = abs(np.random.randn())\n",
        "        x += [rand]\n",
        "        y += [.15 * np.random.randn() + rand]\n",
        "    x, y = np.array(x), np.array(y)\n",
        "    return x, y\n",
        "\n",
        "X, y = gen_data(num_data)\n",
        "plt.scatter(X, y)\n",
        "plt.show()"
      ],
      "execution_count": 2,
      "outputs": [
        {
          "output_type": "display_data",
          "data": {
            "text/plain": [
              "<Figure size 640x480 with 1 Axes>"
            ],
            "image/png": "[encoded data removed]"
          },
          "metadata": {}
        }
      ]
    },
    {
      "cell_type": "code",
      "metadata": {
        "id": "dmsZiyEMJDRZ",
        "colab": {
          "base_uri": "https://localhost:8080/",
          "height": 609
        },
        "outputId": "575fc52e-b994-4bfe-eb42-960c974db057"
      },
      "source": [
        "## YOUR TASK: Fit the data with a linear model\n",
        "weight = torch.tensor(0.0, requires_grad=True, dtype=torch.float32)  # Random initial weight\n",
        "bias = torch.tensor(0.0, requires_grad=True, dtype=torch.float32)  # Random initial bias\n",
        "\n",
        "# Convert NumPy arrays to PyTorch tensors\n",
        "inputs = torch.from_numpy(X).float().to(DEVICE)  # Input tensor\n",
        "labels = torch.from_numpy(y).float().to(DEVICE)  # Target tensor\n",
        "\n",
        "optimizer = torch.optim.Adam([weight, bias], lr=1)  # Include model parameters\n",
        "num_steps = 100\n",
        "\n",
        "for i in range(num_steps):\n",
        "  # Zero gradients for the optimizer\n",
        "  optimizer.zero_grad()\n",
        "  # Compute output of linear model using weight & bias\n",
        "  preds = weight * inputs + bias\n",
        "  # Compute loss\n",
        "  loss = torch.mean((preds - labels) ** 2)\n",
        "  # Backpropagate gradients & run optimizer\n",
        "  loss.backward()  # Compute gradients of loss w.r.t. parameters\n",
        "  optimizer.step()  # Update weight and bias\n",
        "\n",
        "  if i % 10 == 0:\n",
        "    print(\"L2 Loss step\", i, \":\", loss.item())\n",
        "\n",
        "# Get the final predictions and add them to the plot\n",
        "with torch.no_grad():\n",
        "  pred = weight * inputs + bias  # Compute final predictions\n",
        "  # Convert pred to numpy array\n",
        "  pred = pred.cpu().numpy()  # Convert to NumPy array for plotting\n",
        "\n",
        "plt.scatter(X, y)\n",
        "plt.plot(X, pred, color='orange')\n",
        "plt.show()\n"
      ],
      "execution_count": 3,
      "outputs": [
        {
          "output_type": "stream",
          "name": "stdout",
          "text": [
            "L2 Loss step 0 : 0.8854450583457947\n",
            "L2 Loss step 10 : 0.21029901504516602\n",
            "L2 Loss step 20 : 0.0335070826113224\n",
            "L2 Loss step 30 : 0.017502760514616966\n",
            "L2 Loss step 40 : 0.02745719626545906\n",
            "L2 Loss step 50 : 0.0132449297234416\n",
            "L2 Loss step 60 : 0.014881622977554798\n",
            "L2 Loss step 70 : 0.013575992546975613\n",
            "L2 Loss step 80 : 0.013125826604664326\n",
            "L2 Loss step 90 : 0.013081192970275879\n"
          ]
        },
        {
          "output_type": "display_data",
          "data": {
            "text/plain": [
              "<Figure size 640x480 with 1 Axes>"
            ],
            "image/png": "[encoded data removed]"
          },
          "metadata": {}
        }
      ]
    },
    {
      "cell_type": "markdown",
      "metadata": {
        "id": "pQIsANncKn7f"
      },
      "source": [
        "## Exercise 1.2: Logistic Regression with Torch.nn\n",
        "Figure out how to do linear regression using torch.nn. If you can do that, you should be able to do logistic! Let's do a simple logistic regression using torch.nn and torch.nn.Modules!"
      ]
    },
    {
      "cell_type": "code",
      "metadata": {
        "id": "kOq08aHNK5wO",
        "colab": {
          "base_uri": "https://localhost:8080/",
          "height": 432
        },
        "outputId": "61135cae-09cd-4078-ace9-eec89f832c4b"
      },
      "source": [
        "# Let's generate the data\n",
        "c1_x1, c1_x2 = np.random.multivariate_normal([-2.5,3], [[1, 0.3],[0.3, 1]], 100).T\n",
        "c2_x1, c2_x2 = np.random.multivariate_normal([1,1], [[2, 1],[1, 2]], 100).T\n",
        "c1_X = np.vstack((c1_x1, c1_x2)).T\n",
        "c2_X = np.vstack((c2_x1, c2_x2)).T\n",
        "X = np.concatenate((c1_X, c2_X))\n",
        "y = np.concatenate((np.zeros(100), np.ones(100)))\n",
        "# Shuffle the data\n",
        "permutation = np.random.permutation(X.shape[0])\n",
        "X = X[permutation, :]\n",
        "y = y[permutation]\n",
        "\n",
        "plt.plot(c1_x1, c1_x2, 'x')\n",
        "plt.plot(c2_x1, c2_x2, 'o')\n",
        "plt.axis('equal')\n",
        "plt.show()"
      ],
      "execution_count": null,
      "outputs": [
        {
          "output_type": "display_data",
          "data": {
            "text/plain": [
              "<Figure size 640x480 with 1 Axes>"
            ],
            "image/png": "[encoded data removed]"
          },
          "metadata": {}
        }
      ]
    },
    {
      "cell_type": "markdown",
      "metadata": {
        "id": "_Q55MmWXK64_"
      },
      "source": [
        "Now try and run logistic regression on the data using torch.nn and give the final accuracy. We have less skeleton code for this part!"
      ]
    },
    {
      "cell_type": "code",
      "metadata": {
        "id": "OMsVV8TSK_mS"
      },
      "source": [
        "## Your code here!\n",
        "\n",
        "class Perceptron(nn.Module):\n",
        "  def __init__(self, in_dim):\n",
        "    super().__init__()\n",
        "    # Initialize layers you need.\n",
        "    # Remember that logistic regression uses o(Wx + b) as the model\n",
        "    # where o is the logistic function.\n",
        "    # What layers would you need? (Need to be initialized here.)\n",
        "    # What functions without weights would you need?\n",
        "    # (You don't need to declare those here.)\n",
        "    self.linear = nn.Linear(in_dim, 1)\n",
        "    self.sigmoid = nn.Sigmoid()\n",
        "\n",
        "  def forward(self, x):\n",
        "    # Compute the output of the perceptron.\n",
        "    # Any functions without weights from torch.nn.functional\n",
        "    # would be used here.\n",
        "    out = self.linear(x)\n",
        "    out = self.sigmoid(out)\n",
        "    return out\n",
        "\n",
        "net = Perceptron(2)\n",
        "optimizer = torch.optim.Adam(net.parameters(), lr=1)\n",
        "criterion = ... # Binary cross entropy\n",
        "\n",
        "inputs = torch.from_numpy(X).float()\n",
        "labels = ...\n",
        "num_steps = 100\n",
        "for i in range(num_steps):\n",
        "  ... # Training loop!\n",
        "  if i % 10 == 0:\n",
        "    print(\"BCE Loss step\", i, \":\", loss.item())\n",
        "\n",
        "# We can run predictions on the data to determine the final accuracy.\n",
        "with ...: # Disable gradients\n",
        "    # Compute predictions\n",
        "    ...\n",
        "    # Compute accuracy\n",
        "    ...\n",
        "    # Print\n",
        "    ..."
      ],
      "execution_count": null,
      "outputs": []
    },
    {
      "cell_type": "markdown",
      "metadata": {
        "id": "CwpoOgEkLCSU"
      },
      "source": [
        "## Exercise 2: Neural Networks"
      ]
    },
    {
      "cell_type": "markdown",
      "metadata": {
        "id": "nFYfZCYOQmN_"
      },
      "source": [
        "For this workshop we will be training a Pytorch neural network to predict whether a player won or lost in League of Legends. (Technically, since we're using data from the game itself, it's not really a prediction. That would require only using player data that was known before the game started. But this is a much easier problem and it was easier to get data about the game than the player :P)\n",
        "\n",
        "Because it can take a while to download match data from the Riot API, we've predownloaded a dataset of about 200 games."
      ]
    },
    {
      "cell_type": "code",
      "metadata": {
        "id": "9Kw9qaYsPCYf"
      },
      "source": [
        "def load(url):\n",
        "    return requests.get(url).json()\n",
        "\n",
        "matches = load(\"http://drive.google.com/uc?id=1OLj5jlhquedQTIYj9Pm3VdVYZ7vTu5md\")"
      ],
      "execution_count": null,
      "outputs": []
    },
    {
      "cell_type": "markdown",
      "metadata": {
        "id": "PTl9WuocQL4V"
      },
      "source": [
        "To keep things simple we'll just look at a few preselected stats."
      ]
    },
    {
      "cell_type": "code",
      "metadata": {
        "id": "MO5-kyd7QLtv"
      },
      "source": [
        "FIELDS = [\"kills\", \"deaths\", \"assists\", \"magicDamageDealt\",\n",
        "          \"physicalDamageDealt\", \"trueDamageDealt\", \"totalHeal\",\n",
        "          \"damageSelfMitigated\", \"magicalDamageTaken\", \"physicalDamageTaken\",\n",
        "          \"trueDamageTaken\", \"totalMinionsKilled\", \"damageDealtToObjectives\",\n",
        "          \"timeCCingOthers\", \"champLevel\", \"damageDealtToTurrets\",\n",
        "          \"goldEarned\"]\n",
        "\n",
        "def get_data(entry):\n",
        "    entry = entry[\"stats\"]\n",
        "    return [entry[field] for field in FIELDS] + [entry[\"win\"]] # the last column is y, whether they w\n",
        "\n",
        "def get_all_datas(matches):\n",
        "    datas = []\n",
        "    for match in matches:\n",
        "        if 'participants' in match:\n",
        "            for player in match['participants']:\n",
        "                datas.append(get_data(player))\n",
        "    return datas\n",
        "\n",
        "match_datas = get_all_datas(matches)"
      ],
      "execution_count": null,
      "outputs": []
    },
    {
      "cell_type": "code",
      "metadata": {
        "id": "UujC1DJlZkrB"
      },
      "source": [
        "class MatchDataset(data.Dataset):\n",
        "    def __init__(self, match_datas):\n",
        "        self.datas = match_datas\n",
        "        self.center_data()\n",
        "\n",
        "    def center_data(self):\n",
        "        for i in range(len(self.datas[0])-1):\n",
        "            mean = np.mean([datum[i] for datum in self.datas])\n",
        "            stdev = np.std([datum[i] for datum in self.datas])\n",
        "            for j in range(len(self.datas)):\n",
        "                self.datas[j][i] -= mean\n",
        "                self.datas[j][i] /= stdev\n",
        "\n",
        "    # YOUR CODE HERE\n",
        "    # Hint: what methods do you need to implement for a subclass of torch.utils.data.Dataset?\n",
        "    # (See https://pytorch.org/docs/stable/data.html#map-style-datasets)\n",
        "\n",
        "dataset = MatchDataset(match_datas)\n",
        "num_train = (len(dataset) * 8) // 10\n",
        "num_test = len(dataset) - num_train\n",
        "train, test = ... # YOUR CODE HERE: Train/test split. Hint: Use torch.utils.data.random_split"
      ],
      "execution_count": null,
      "outputs": []
    },
    {
      "cell_type": "code",
      "metadata": {
        "id": "sllMtx9fq7lG"
      },
      "source": [
        "class FCNet(...): # YOUR CODE HERE: What should FCNet inherit from?\n",
        "    def __init__(self):\n",
        "        super().__init__()\n",
        "        # YOUR CODE HERE: Define layers\n",
        "        ...\n",
        "        self.apply(init_weights)\n",
        "\n",
        "    def forward(self, x):\n",
        "        ... # YOUR CODE HERE\n",
        "\n",
        "# Implement weight initialization based on this stack overflow guide:\n",
        "# https://stackoverflow.com/questions/49433936/how-to-initialize-weights-in-pytorch\n",
        "# You can initialize the weights however you want,\n",
        "# the solution uses Xavier uniform initialization for Linear layers.\n",
        "def init_weights(m):\n",
        "    ... # YOUR CODE HERE"
      ],
      "execution_count": null,
      "outputs": []
    },
    {
      "cell_type": "code",
      "metadata": {
        "id": "G3FjbZLWtCdc"
      },
      "source": [
        "# YOUR CODE HERE: Create the network, choose an optimizer and loss function\n",
        "for epoch in range(100):\n",
        "    # Loop over batches from the data loader.\n",
        "    # You can use batch[:, :-1] and batch[:, -1] to get xs and ys from a batch.\n",
        "    # Then, generate prediction probabilities, compute loss and backpropagate.\n",
        "    # Make sure to also track the number of accurate and total number of predictions,\n",
        "    # and append each loss to a losses array for statistics.\n",
        "    # We removed some skeleton from this problem, so please ask us\n",
        "    # on Slack if you have any questions!\n",
        "    print(f\"epoch: {epoch}, loss: {np.mean(losses)}, {accurate}/{total} correct (accuracy {accurate/total})\")\n",
        "    should_train = True"
      ],
      "execution_count": null,
      "outputs": []
    },
    {
      "cell_type": "code",
      "metadata": {
        "id": "K7HiXU5N33Jb"
      },
      "source": [
        "losses = []\n",
        "total = 0\n",
        "accurate = 0\n",
        "for batch in data.DataLoader(test, batch_size=1, shuffle=False):\n",
        "    # TODO: Evaluate on test dataset, update total, accurate, and losses.\n",
        "print(f\"Test loss: {np.mean(losses)}.  {accurate}/{total} corrrect (accuracy {accurate/total})\")"
      ],
      "execution_count": null,
      "outputs": []
    },
    {
      "cell_type": "markdown",
      "metadata": {
        "id": "jIGhZJ3RaEjw"
      },
      "source": [
        "For fun: If you want to try running your own queries and predicting different quantities, the Riot API is at https://developer.riotgames.com.\n",
        "\n",
        "You'll need to sign up and get a token to be able to use it, but it's free to use.\n",
        "\n",
        "I wrote a function called `riot_request` that makes it a bit easier to query the API. Just set the endpoint and TOKEN and it will automatically retry every 15s if you hit the rate limit of 100 requests/min"
      ]
    },
    {
      "cell_type": "code",
      "metadata": {
        "id": "ZgVnv60AaKZm"
      },
      "source": [
        "PLAYERS=['C9 Sven', 'integerliteral', 'Launchpad']\n",
        "\n",
        "TOKEN = \"...\" # You will need to get a token from the Riot developer API site. They give free tokens for personal use.\n",
        "AUTH={\"X-Riot-Token\": TOKEN}\n",
        "BASE=\"https://na1.api.riotgames.com\"\n",
        "\n",
        "def riot_request(endpoint, headers={}, **kwargs):\n",
        "    max_tries = 10\n",
        "    max_retries = max_tries - 1\n",
        "    retry_after = 15\n",
        "    for i in range(max_tries):\n",
        "        current_try = i + 1\n",
        "        response = requests.get(endpoint, headers={**headers, **AUTH}, **kwargs)\n",
        "        if response.status_code != 429:\n",
        "            break\n",
        "        if current_try < max_tries:\n",
        "            print(f\"Hit a rate limit. Retry {current_try}/{max_retries} in {retry_after}s...\")\n",
        "            for i in tqdm.trange(retry_after):\n",
        "                time.sleep(1)\n",
        "    return response\n",
        "\n",
        "def get_match_ids(summoners):\n",
        "    ids = []\n",
        "    for summoner in summoners:\n",
        "        id = riot_request(f\"{BASE}/lol/summoner/v4/summoners/by-name/{summoner}\").json()[\"accountId\"]\n",
        "        matches = riot_request(f\"{BASE}/lol/match/v4/matchlists/by-account/{id}\").json()['matches']\n",
        "        ids += [match['gameId'] for match in matches]\n",
        "    return ids\n",
        "\n",
        "def get_match(id):\n",
        "    return riot_request(f\"{BASE}/lol/match/v4/matches/{id}\").json()\n",
        "\n",
        "def dump_matches(players=PLAYERS, file=\"matches.json\"):\n",
        "    match_ids = get_match_ids(players)\n",
        "    matches = [get_match(match_id) for match_id in match_ids]\n",
        "    with open(file, \"w\") as f:\n",
        "        json.dump(matches, f)\n",
        "    print(f\"Saved {len(matches)} matches to {file}\")\n",
        "\n",
        "def load_matches(file=\"matches.json\"):\n",
        "    with open(file) as f:\n",
        "        matches = json.load(f)\n",
        "    print(f\"Loaded {len(matches)} matches from {file}\")"
      ],
      "execution_count": null,
      "outputs": []
    }
  ]
}